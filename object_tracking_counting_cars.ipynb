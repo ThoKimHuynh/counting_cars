{
 "cells": [
  {
   "cell_type": "code",
   "execution_count": 1,
   "metadata": {
    "colab": {
     "base_uri": "https://localhost:8080/"
    },
    "executionInfo": {
     "elapsed": 10118,
     "status": "ok",
     "timestamp": 1643206531961,
     "user": {
      "displayName": "Tho Huynh",
      "photoUrl": "https://lh3.googleusercontent.com/a/default-user=s64",
      "userId": "10567229001254020164"
     },
     "user_tz": -420
    },
    "id": "_IIqew35olA0",
    "outputId": "66b34cee-e5e5-4eb1-b747-3959ca0d2d42"
   },
   "outputs": [
    {
     "name": "stdout",
     "output_type": "stream",
     "text": [
      "Found existing installation: opencv-python 4.1.2.30\n",
      "Uninstalling opencv-python-4.1.2.30:\n",
      "  Would remove:\n",
      "    /usr/local/lib/python3.7/dist-packages/cv2/*\n",
      "    /usr/local/lib/python3.7/dist-packages/opencv_python-4.1.2.30.dist-info/*\n",
      "Proceed (y/n)? y\n",
      "  Successfully uninstalled opencv-python-4.1.2.30\n"
     ]
    }
   ],
   "source": [
    "!pip uninstall opencv-python"
   ]
  },
  {
   "cell_type": "code",
   "execution_count": 2,
   "metadata": {
    "colab": {
     "base_uri": "https://localhost:8080/"
    },
    "executionInfo": {
     "elapsed": 10660,
     "status": "ok",
     "timestamp": 1643206546124,
     "user": {
      "displayName": "Tho Huynh",
      "photoUrl": "https://lh3.googleusercontent.com/a/default-user=s64",
      "userId": "10567229001254020164"
     },
     "user_tz": -420
    },
    "id": "1kH27Qya0mMm",
    "outputId": "c226a3de-7a43-4076-b540-4aed89c0b824"
   },
   "outputs": [
    {
     "name": "stdout",
     "output_type": "stream",
     "text": [
      "Collecting opencv-python\n",
      "  Downloading opencv_python-4.5.5.62-cp36-abi3-manylinux_2_17_x86_64.manylinux2014_x86_64.whl (60.4 MB)\n",
      "\u001b[K     |████████████████████████████████| 60.4 MB 1.3 MB/s \n",
      "\u001b[?25hRequirement already satisfied: numpy>=1.14.5 in /usr/local/lib/python3.7/dist-packages (from opencv-python) (1.19.5)\n",
      "Installing collected packages: opencv-python\n",
      "\u001b[31mERROR: pip's dependency resolver does not currently take into account all the packages that are installed. This behaviour is the source of the following dependency conflicts.\n",
      "albumentations 0.1.12 requires imgaug<0.2.7,>=0.2.5, but you have imgaug 0.2.9 which is incompatible.\u001b[0m\n",
      "Successfully installed opencv-python-4.5.5.62\n"
     ]
    }
   ],
   "source": [
    "!pip install opencv-python"
   ]
  },
  {
   "cell_type": "code",
   "execution_count": 3,
   "metadata": {
    "colab": {
     "base_uri": "https://localhost:8080/",
     "height": 35
    },
    "executionInfo": {
     "elapsed": 692,
     "status": "ok",
     "timestamp": 1643206564015,
     "user": {
      "displayName": "Tho Huynh",
      "photoUrl": "https://lh3.googleusercontent.com/a/default-user=s64",
      "userId": "10567229001254020164"
     },
     "user_tz": -420
    },
    "id": "V_xjhIYsBg-F",
    "outputId": "2b37bfc0-08e2-425e-f0e4-8241ccd8c31d"
   },
   "outputs": [
    {
     "data": {
      "application/vnd.google.colaboratory.intrinsic+json": {
       "type": "string"
      },
      "text/plain": [
       "'4.5.5'"
      ]
     },
     "execution_count": 3,
     "metadata": {},
     "output_type": "execute_result"
    }
   ],
   "source": [
    "#Checking version of OpenCV\n",
    "import cv2\n",
    "cv2.__version__"
   ]
  },
  {
   "cell_type": "code",
   "execution_count": null,
   "metadata": {
    "id": "a6SvAho5UdHW"
   },
   "outputs": [],
   "source": []
  },
  {
   "cell_type": "code",
   "execution_count": 4,
   "metadata": {
    "colab": {
     "base_uri": "https://localhost:8080/"
    },
    "executionInfo": {
     "elapsed": 26361,
     "status": "ok",
     "timestamp": 1643206632456,
     "user": {
      "displayName": "Tho Huynh",
      "photoUrl": "https://lh3.googleusercontent.com/a/default-user=s64",
      "userId": "10567229001254020164"
     },
     "user_tz": -420
    },
    "id": "-mUoQQlxBvaS",
    "outputId": "b5a9adf9-f58e-4bca-c0b9-60bd1c9494b4"
   },
   "outputs": [
    {
     "name": "stdout",
     "output_type": "stream",
     "text": [
      "Mounted at /content/gdrive\n"
     ]
    }
   ],
   "source": [
    "from google.colab import drive\n",
    "drive.mount(\"/content/gdrive\", force_remount=True)"
   ]
  },
  {
   "cell_type": "code",
   "execution_count": 5,
   "metadata": {
    "colab": {
     "base_uri": "https://localhost:8080/"
    },
    "executionInfo": {
     "elapsed": 1791,
     "status": "ok",
     "timestamp": 1643206637255,
     "user": {
      "displayName": "Tho Huynh",
      "photoUrl": "https://lh3.googleusercontent.com/a/default-user=s64",
      "userId": "10567229001254020164"
     },
     "user_tz": -420
    },
    "id": "anmTXPBTQw5X",
    "outputId": "774d23a1-b632-4484-fe8a-58acf89a7f47"
   },
   "outputs": [
    {
     "name": "stdout",
     "output_type": "stream",
     "text": [
      "/content/gdrive/MyDrive/Computer_Vision_Docs/Object_Tracking/Yolo_Object_Tracking\n"
     ]
    }
   ],
   "source": [
    "%cd '/content/gdrive/MyDrive/Computer_Vision_Docs/Object_Tracking/Yolo_Object_Tracking/'\n"
   ]
  },
  {
   "cell_type": "code",
   "execution_count": 6,
   "metadata": {
    "executionInfo": {
     "elapsed": 15,
     "status": "ok",
     "timestamp": 1643206640981,
     "user": {
      "displayName": "Tho Huynh",
      "photoUrl": "https://lh3.googleusercontent.com/a/default-user=s64",
      "userId": "10567229001254020164"
     },
     "user_tz": -420
    },
    "id": "86rDsBr1SLf_"
   },
   "outputs": [],
   "source": [
    "import numpy as np\n",
    "import math\n",
    "\n",
    "from google.colab.patches import cv2_imshow\n"
   ]
  },
  {
   "cell_type": "code",
   "execution_count": 7,
   "metadata": {
    "executionInfo": {
     "elapsed": 16,
     "status": "ok",
     "timestamp": 1643206644937,
     "user": {
      "displayName": "Tho Huynh",
      "photoUrl": "https://lh3.googleusercontent.com/a/default-user=s64",
      "userId": "10567229001254020164"
     },
     "user_tz": -420
    },
    "id": "D-iCyKgzQiei"
   },
   "outputs": [],
   "source": [
    "#Define Class ObjectDetection with Yolo4\n",
    "class ObjectDetection:\n",
    "    def __init__(self, weights_path=\"dnn_model/yolov4.weights\", cfg_path=\"dnn_model/yolov4.cfg\"):\n",
    "        print(\"Loading Object Detection\")\n",
    "        print(\"Running opencv dnn with YOLOv4\")\n",
    "        self.nmsThreshold = 0.4\n",
    "        self.confThreshold = 0.5\n",
    "        self.image_size = 608  #Tùy chỉnh\n",
    "\n",
    "        # Load Deep Neuro Network (DNN)\n",
    "        net = cv2.dnn.readNet(weights_path, cfg_path)\n",
    "\n",
    "        # Set 'DNN' to CUDA\n",
    "        net.setPreferableBackend(cv2.dnn.DNN_BACKEND_CUDA)\n",
    "        net.setPreferableTarget(cv2.dnn.DNN_TARGET_CUDA)\n",
    "        self.model = cv2.dnn_DetectionModel(net)\n",
    "\n",
    "        self.classes = []\n",
    "        self.load_class_names()\n",
    "        self.colors = np.random.uniform(0, 255, size=(80, 3))\n",
    "\n",
    "        self.model.setInputParams(size=(self.image_size, self.image_size), scale=1/255)\n",
    "\n",
    "    def load_class_names(self, classes_path=\"dnn_model/classes.txt\"):\n",
    "\n",
    "        with open(classes_path, \"r\") as file_object:\n",
    "            for class_name in file_object.readlines():\n",
    "                class_name = class_name.strip()\n",
    "                self.classes.append(class_name)\n",
    "\n",
    "        self.colors = np.random.uniform(0, 255, size=(80, 3)) #Tạo color cho 80 lớp đối tượng trong Yolo4\n",
    "        return self.classes\n",
    "\n",
    "    def detect(self, frame):  #Object Detection cho từng frame\n",
    "        return self.model.detect(frame, nmsThreshold=self.nmsThreshold, confThreshold=self.confThreshold)\n",
    "\n"
   ]
  },
  {
   "cell_type": "code",
   "execution_count": 19,
   "metadata": {
    "executionInfo": {
     "elapsed": 14,
     "status": "ok",
     "timestamp": 1643207924295,
     "user": {
      "displayName": "Tho Huynh",
      "photoUrl": "https://lh3.googleusercontent.com/a/default-user=s64",
      "userId": "10567229001254020164"
     },
     "user_tz": -420
    },
    "id": "BBLzMYZ7xvTy"
   },
   "outputs": [],
   "source": [
    "END_POINT = 700  # the height of the drawing line from the origin of the image frame\n",
    "LINE_X_START_POINT = 300  # the x value of the starting point of the line\n",
    "LINE_X_END_POINT = 1250   # the x value of the ending point of the line"
   ]
  },
  {
   "cell_type": "code",
   "execution_count": null,
   "metadata": {
    "id": "F1O0QMePxvPd"
   },
   "outputs": [],
   "source": []
  },
  {
   "cell_type": "code",
   "execution_count": 9,
   "metadata": {
    "executionInfo": {
     "elapsed": 8,
     "status": "ok",
     "timestamp": 1643206654254,
     "user": {
      "displayName": "Tho Huynh",
      "photoUrl": "https://lh3.googleusercontent.com/a/default-user=s64",
      "userId": "10567229001254020164"
     },
     "user_tz": -420
    },
    "id": "pOi-iUVTQiT3"
   },
   "outputs": [],
   "source": [
    "#Định nghĩa hàm check_location để đếm cars\n",
    "def check_location(center_point):\n",
    "    flag = False\n",
    "    if (center_point[0] > LINE_X_START_POINT and center_point[0] < LINE_X_END_POINT):\n",
    "      if center_point[1] > END_POINT:\n",
    "          flag = True\n",
    "          \n",
    "    return flag\n"
   ]
  },
  {
   "cell_type": "code",
   "execution_count": null,
   "metadata": {
    "id": "DlOKYxFLw54Y"
   },
   "outputs": [],
   "source": []
  },
  {
   "cell_type": "code",
   "execution_count": 11,
   "metadata": {
    "colab": {
     "base_uri": "https://localhost:8080/"
    },
    "executionInfo": {
     "elapsed": 6827,
     "status": "ok",
     "timestamp": 1643206745526,
     "user": {
      "displayName": "Tho Huynh",
      "photoUrl": "https://lh3.googleusercontent.com/a/default-user=s64",
      "userId": "10567229001254020164"
     },
     "user_tz": -420
    },
    "id": "Qt9RGPj4B2Xa",
    "outputId": "8219c8b5-3ed8-4a4e-d414-6809d6ea9a5f"
   },
   "outputs": [
    {
     "name": "stdout",
     "output_type": "stream",
     "text": [
      "Loading Object Detection\n",
      "Running opencv dnn with YOLOv4\n"
     ]
    }
   ],
   "source": [
    "# Initialize Object Detection\n",
    "od = ObjectDetection()"
   ]
  },
  {
   "cell_type": "code",
   "execution_count": 20,
   "metadata": {
    "executionInfo": {
     "elapsed": 555,
     "status": "ok",
     "timestamp": 1643208160241,
     "user": {
      "displayName": "Tho Huynh",
      "photoUrl": "https://lh3.googleusercontent.com/a/default-user=s64",
      "userId": "10567229001254020164"
     },
     "user_tz": -420
    },
    "id": "YbyOSs5NB2Vb"
   },
   "outputs": [],
   "source": [
    "#Open the input video clip\n",
    "\n",
    "cap = cv2.VideoCapture(\"./high_way.mp4\")\n"
   ]
  },
  {
   "cell_type": "code",
   "execution_count": 21,
   "metadata": {
    "executionInfo": {
     "elapsed": 490,
     "status": "ok",
     "timestamp": 1643208163024,
     "user": {
      "displayName": "Tho Huynh",
      "photoUrl": "https://lh3.googleusercontent.com/a/default-user=s64",
      "userId": "10567229001254020164"
     },
     "user_tz": -420
    },
    "id": "2YpL30J6B2TP"
   },
   "outputs": [],
   "source": [
    "# Initialize count, tracking objects and tracking id\n",
    "count = 0\n",
    "center_points_prev_frame = []\n",
    "\n",
    "tracking_objects = {}\n",
    "track_id = 0\n",
    "number_vehicle = 0"
   ]
  },
  {
   "cell_type": "code",
   "execution_count": 22,
   "metadata": {
    "colab": {
     "base_uri": "https://localhost:8080/",
     "height": 1000,
     "output_embedded_package_id": "1gicT_gmKyyVdEqVYkdMWxV88PKiDrL7F"
    },
    "executionInfo": {
     "elapsed": 1108873,
     "status": "ok",
     "timestamp": 1643209298265,
     "user": {
      "displayName": "Tho Huynh",
      "photoUrl": "https://lh3.googleusercontent.com/a/default-user=s64",
      "userId": "10567229001254020164"
     },
     "user_tz": -420
    },
    "id": "ZLnDGnNDB2Qj",
    "outputId": "53db80a7-40fd-4455-8ae4-17538d014ae5"
   },
   "outputs": [
    {
     "data": {
      "text/plain": [
       "Output hidden; open in https://colab.research.google.com to view."
      ]
     },
     "metadata": {},
     "output_type": "display_data"
    }
   ],
   "source": [
    "#Get the width, height of the frame\n",
    "width = int(cap.get(cv2.CAP_PROP_FRAME_WIDTH))\n",
    "height = int(cap.get(cv2.CAP_PROP_FRAME_HEIGHT))\n",
    "res=(int(width), int(height))\n",
    "\n",
    "#Define the configuration of the output video\n",
    "fourcc = cv2.VideoWriter_fourcc(*'MP4V') #format of the output video\n",
    "out = cv2.VideoWriter('output_high_way_counting_cars.mp4', fourcc, 30.0, res)\n",
    "\n",
    "last_frame = []\n",
    "while True:\n",
    "    \n",
    "    ret, frame = cap.read()\n",
    "    count += 1\n",
    "\n",
    "    if not ret:\n",
    "        break\n",
    "\n",
    "    \n",
    "    # Current frame point\n",
    "    center_points_cur_frame = []\n",
    "\n",
    "    # Detect objects on frame\n",
    "    (class_ids, scores, boxes) = od.detect(frame) \n",
    "    for box in boxes:\n",
    "        (x, y, w, h) = box\n",
    "        cx = int((x + x + w) / 2)\n",
    "        cy = int((y + y + h) / 2)\n",
    "\n",
    "        center_points_cur_frame.append((cx, cy))\n",
    "        cv2.rectangle(frame, (x, y), (x + w, y + h), (0, 255, 0), 2)\n",
    "\n",
    "    # OBJECT TRACKING\n",
    "    # Only at the beginning we compare previous and current frame\n",
    "    if count <= 2:\n",
    "        for pt in center_points_cur_frame:\n",
    "            for pt2 in center_points_prev_frame:\n",
    "                distance = math.hypot(pt2[0] - pt[0], pt2[1] - pt[1])\n",
    "\n",
    "                if distance < 20:\n",
    "                    tracking_objects[track_id] = pt\n",
    "                    track_id += 1\n",
    "    else:\n",
    "\n",
    "        tracking_objects_copy = tracking_objects.copy()\n",
    "        center_points_cur_frame_copy = center_points_cur_frame.copy()\n",
    "\n",
    "        for object_id, pt2 in tracking_objects_copy.items():\n",
    "            object_exists = False\n",
    "            for pt in center_points_cur_frame_copy:\n",
    "                distance = math.hypot(pt2[0] - pt[0], pt2[1] - pt[1])\n",
    "\n",
    "                # Update IDs position\n",
    "                if distance < 20:\n",
    "                    tracking_objects[object_id] = pt\n",
    "                    object_exists = True\n",
    "                    if pt in center_points_cur_frame:\n",
    "                        center_points_cur_frame.remove(pt)\n",
    "                    continue\n",
    "\n",
    "            # Remove IDs lost (out of the frame)\n",
    "            if not object_exists:\n",
    "                tracking_objects.pop(object_id)\n",
    "\n",
    "        # Add new IDs found và loại ra những object đã đếm\n",
    "        for pt in center_points_cur_frame:\n",
    "          if not check_location(pt):\n",
    "            tracking_objects[track_id] = pt\n",
    "            track_id += 1\n",
    "\n",
    "\n",
    "        #REMOVE IDs when passing the line\n",
    "        tracking_objects_copy = tracking_objects.copy()\n",
    "        for object_id, pt in tracking_objects_copy.items():\n",
    "            if check_location(pt):\n",
    "              number_vehicle += 1\n",
    "              tracking_objects.pop(object_id)\n",
    "\n",
    "\n",
    "    for object_id, pt in tracking_objects.items():\n",
    "        cv2.circle(frame, pt, 5, (0, 0, 255), -1)\n",
    "        cv2.putText(frame, str(object_id), (pt[0], pt[1] - 7), 0, 1, (0, 0, 255), 2)\n",
    "\n",
    "\n",
    "    # Put summary text for number of counted cars\n",
    "    cv2.putText(frame, \"Number : {:03d}\".format(number_vehicle), (30, 80), cv2.FONT_HERSHEY_SIMPLEX, 1.5, (0, 0, 255), 2)\n",
    "\n",
    "    cv2.line(frame, (LINE_X_START_POINT, END_POINT), (LINE_X_END_POINT, END_POINT), (0,255,255), 2)\n",
    "    \n",
    "    # Make a copy of the points\n",
    "    center_points_prev_frame = center_points_cur_frame.copy()\n",
    "\n",
    "    # Write an output video\n",
    "    image = cv2.cvtColor(frame, cv2.COLOR_BGR2RGB)\n",
    "    out.write(image)\n",
    "\n",
    "    last_frame = frame\n",
    "\n",
    "    \n",
    "    if count % 10 == 0:\n",
    "      print('Count:', count)\n",
    "\n",
    "\n",
    "    if cv2.waitKey(30) & 0xff == ord('q'):\n",
    "        break\n",
    "\n",
    "#Print the last frame when completing\n",
    "cv2_imshow(last_frame)\n",
    "\n",
    "out.release()\n",
    "\n",
    "cap.release()\n",
    "cv2.destroyAllWindows()"
   ]
  },
  {
   "cell_type": "code",
   "execution_count": null,
   "metadata": {
    "id": "hN5Lh6E6bBxP"
   },
   "outputs": [],
   "source": []
  },
  {
   "cell_type": "code",
   "execution_count": null,
   "metadata": {
    "id": "mpLf3XwFMJIo"
   },
   "outputs": [],
   "source": []
  }
 ],
 "metadata": {
  "colab": {
   "authorship_tag": "ABX9TyM7WERZGuXHH6FKpvmE3cX3",
   "collapsed_sections": [],
   "name": "object_tracking_counting_cars.ipynb",
   "provenance": []
  },
  "kernelspec": {
   "display_name": "Python 3",
   "language": "python",
   "name": "python3"
  },
  "language_info": {
   "codemirror_mode": {
    "name": "ipython",
    "version": 3
   },
   "file_extension": ".py",
   "mimetype": "text/x-python",
   "name": "python",
   "nbconvert_exporter": "python",
   "pygments_lexer": "ipython3",
   "version": "3.7.4"
  }
 },
 "nbformat": 4,
 "nbformat_minor": 1
}
